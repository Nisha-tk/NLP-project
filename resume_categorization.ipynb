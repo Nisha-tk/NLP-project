{
  "nbformat": 4,
  "nbformat_minor": 0,
  "metadata": {
    "colab": {
      "provenance": [],
      "gpuType": "T4",
      "authorship_tag": "ABX9TyOuxvfnpCHuMrFSoocTIHDL",
      "include_colab_link": true
    },
    "kernelspec": {
      "name": "python3",
      "display_name": "Python 3"
    },
    "language_info": {
      "name": "python"
    },
    "accelerator": "GPU"
  },
  "cells": [
    {
      "cell_type": "markdown",
      "metadata": {
        "id": "view-in-github",
        "colab_type": "text"
      },
      "source": [
        "<a href=\"https://colab.research.google.com/github/Nisha-tk/NLP-project/blob/main/resume_categorization.ipynb\" target=\"_parent\"><img src=\"https://colab.research.google.com/assets/colab-badge.svg\" alt=\"Open In Colab\"/></a>"
      ]
    },
    {
      "cell_type": "code",
      "execution_count": 2,
      "metadata": {
        "id": "sMOmM3kttCv8",
        "colab": {
          "base_uri": "https://localhost:8080/"
        },
        "outputId": "cc748d95-7087-40e8-94e6-6d69da2a1535"
      },
      "outputs": [
        {
          "output_type": "stream",
          "name": "stdout",
          "text": [
            "hello world\n"
          ]
        }
      ],
      "source": [
        "print(\"hello world\")"
      ]
    },
    {
      "cell_type": "code",
      "source": [
        "from google.colab import drive\n",
        "drive.mount('/content/drive')"
      ],
      "metadata": {
        "colab": {
          "base_uri": "https://localhost:8080/"
        },
        "id": "ceQlPhLr8WPu",
        "outputId": "b01e357c-6d29-4591-a414-28b16dff46ee"
      },
      "execution_count": 4,
      "outputs": [
        {
          "output_type": "stream",
          "name": "stdout",
          "text": [
            "Mounted at /content/drive\n"
          ]
        }
      ]
    },
    {
      "cell_type": "code",
      "source": [
        "import pandas as pd\n",
        "import matplotlib.pyplot as plt\n",
        "import numpy as np\n",
        "import seaborn as sns\n",
        "from sklearn.model_selection import train_test_split\n",
        "from sklearn.feature_extraction.text import TfidfVectorizer\n",
        "from sklearn.ensemble import RandomForestClassifier\n",
        "from sklearn.metrics import accuracy_score, classification_report\n"
      ],
      "metadata": {
        "id": "IkW02cWC8wZ5"
      },
      "execution_count": 6,
      "outputs": []
    },
    {
      "cell_type": "code",
      "source": [
        "clean_df=pd.read_csv(\"/content/drive/MyDrive/clean_resume_data.csv\")\n"
      ],
      "metadata": {
        "id": "C9kwTTNY9nw0"
      },
      "execution_count": 7,
      "outputs": []
    },
    {
      "cell_type": "code",
      "source": [
        "clean_df.head()"
      ],
      "metadata": {
        "colab": {
          "base_uri": "https://localhost:8080/",
          "height": 206
        },
        "id": "DR8YtHyhBs1D",
        "outputId": "be14c598-95cf-4ecd-d670-0b2a2b9faa1a"
      },
      "execution_count": 8,
      "outputs": [
        {
          "output_type": "execute_result",
          "data": {
            "text/plain": [
              "         ID Category                                            Feature\n",
              "0  16852973       HR  hr administrator marketing associate hr admini...\n",
              "1  22323967       HR  hr specialist hr operations summary media prof...\n",
              "2  33176873       HR  hr director summary years experience recruitin...\n",
              "3  27018550       HR  hr specialist summary dedicated driven dynamic...\n",
              "4  17812897       HR  hr manager skill highlights hr skills hr depar..."
            ],
            "text/html": [
              "\n",
              "  <div id=\"df-40d4d783-dbf3-4962-8ab0-c859c46d58fc\" class=\"colab-df-container\">\n",
              "    <div>\n",
              "<style scoped>\n",
              "    .dataframe tbody tr th:only-of-type {\n",
              "        vertical-align: middle;\n",
              "    }\n",
              "\n",
              "    .dataframe tbody tr th {\n",
              "        vertical-align: top;\n",
              "    }\n",
              "\n",
              "    .dataframe thead th {\n",
              "        text-align: right;\n",
              "    }\n",
              "</style>\n",
              "<table border=\"1\" class=\"dataframe\">\n",
              "  <thead>\n",
              "    <tr style=\"text-align: right;\">\n",
              "      <th></th>\n",
              "      <th>ID</th>\n",
              "      <th>Category</th>\n",
              "      <th>Feature</th>\n",
              "    </tr>\n",
              "  </thead>\n",
              "  <tbody>\n",
              "    <tr>\n",
              "      <th>0</th>\n",
              "      <td>16852973</td>\n",
              "      <td>HR</td>\n",
              "      <td>hr administrator marketing associate hr admini...</td>\n",
              "    </tr>\n",
              "    <tr>\n",
              "      <th>1</th>\n",
              "      <td>22323967</td>\n",
              "      <td>HR</td>\n",
              "      <td>hr specialist hr operations summary media prof...</td>\n",
              "    </tr>\n",
              "    <tr>\n",
              "      <th>2</th>\n",
              "      <td>33176873</td>\n",
              "      <td>HR</td>\n",
              "      <td>hr director summary years experience recruitin...</td>\n",
              "    </tr>\n",
              "    <tr>\n",
              "      <th>3</th>\n",
              "      <td>27018550</td>\n",
              "      <td>HR</td>\n",
              "      <td>hr specialist summary dedicated driven dynamic...</td>\n",
              "    </tr>\n",
              "    <tr>\n",
              "      <th>4</th>\n",
              "      <td>17812897</td>\n",
              "      <td>HR</td>\n",
              "      <td>hr manager skill highlights hr skills hr depar...</td>\n",
              "    </tr>\n",
              "  </tbody>\n",
              "</table>\n",
              "</div>\n",
              "    <div class=\"colab-df-buttons\">\n",
              "\n",
              "  <div class=\"colab-df-container\">\n",
              "    <button class=\"colab-df-convert\" onclick=\"convertToInteractive('df-40d4d783-dbf3-4962-8ab0-c859c46d58fc')\"\n",
              "            title=\"Convert this dataframe to an interactive table.\"\n",
              "            style=\"display:none;\">\n",
              "\n",
              "  <svg xmlns=\"http://www.w3.org/2000/svg\" height=\"24px\" viewBox=\"0 -960 960 960\">\n",
              "    <path d=\"M120-120v-720h720v720H120Zm60-500h600v-160H180v160Zm220 220h160v-160H400v160Zm0 220h160v-160H400v160ZM180-400h160v-160H180v160Zm440 0h160v-160H620v160ZM180-180h160v-160H180v160Zm440 0h160v-160H620v160Z\"/>\n",
              "  </svg>\n",
              "    </button>\n",
              "\n",
              "  <style>\n",
              "    .colab-df-container {\n",
              "      display:flex;\n",
              "      gap: 12px;\n",
              "    }\n",
              "\n",
              "    .colab-df-convert {\n",
              "      background-color: #E8F0FE;\n",
              "      border: none;\n",
              "      border-radius: 50%;\n",
              "      cursor: pointer;\n",
              "      display: none;\n",
              "      fill: #1967D2;\n",
              "      height: 32px;\n",
              "      padding: 0 0 0 0;\n",
              "      width: 32px;\n",
              "    }\n",
              "\n",
              "    .colab-df-convert:hover {\n",
              "      background-color: #E2EBFA;\n",
              "      box-shadow: 0px 1px 2px rgba(60, 64, 67, 0.3), 0px 1px 3px 1px rgba(60, 64, 67, 0.15);\n",
              "      fill: #174EA6;\n",
              "    }\n",
              "\n",
              "    .colab-df-buttons div {\n",
              "      margin-bottom: 4px;\n",
              "    }\n",
              "\n",
              "    [theme=dark] .colab-df-convert {\n",
              "      background-color: #3B4455;\n",
              "      fill: #D2E3FC;\n",
              "    }\n",
              "\n",
              "    [theme=dark] .colab-df-convert:hover {\n",
              "      background-color: #434B5C;\n",
              "      box-shadow: 0px 1px 3px 1px rgba(0, 0, 0, 0.15);\n",
              "      filter: drop-shadow(0px 1px 2px rgba(0, 0, 0, 0.3));\n",
              "      fill: #FFFFFF;\n",
              "    }\n",
              "  </style>\n",
              "\n",
              "    <script>\n",
              "      const buttonEl =\n",
              "        document.querySelector('#df-40d4d783-dbf3-4962-8ab0-c859c46d58fc button.colab-df-convert');\n",
              "      buttonEl.style.display =\n",
              "        google.colab.kernel.accessAllowed ? 'block' : 'none';\n",
              "\n",
              "      async function convertToInteractive(key) {\n",
              "        const element = document.querySelector('#df-40d4d783-dbf3-4962-8ab0-c859c46d58fc');\n",
              "        const dataTable =\n",
              "          await google.colab.kernel.invokeFunction('convertToInteractive',\n",
              "                                                    [key], {});\n",
              "        if (!dataTable) return;\n",
              "\n",
              "        const docLinkHtml = 'Like what you see? Visit the ' +\n",
              "          '<a target=\"_blank\" href=https://colab.research.google.com/notebooks/data_table.ipynb>data table notebook</a>'\n",
              "          + ' to learn more about interactive tables.';\n",
              "        element.innerHTML = '';\n",
              "        dataTable['output_type'] = 'display_data';\n",
              "        await google.colab.output.renderOutput(dataTable, element);\n",
              "        const docLink = document.createElement('div');\n",
              "        docLink.innerHTML = docLinkHtml;\n",
              "        element.appendChild(docLink);\n",
              "      }\n",
              "    </script>\n",
              "  </div>\n",
              "\n",
              "\n",
              "<div id=\"df-e6dc6130-5c8c-4606-bc0e-94cc3170af86\">\n",
              "  <button class=\"colab-df-quickchart\" onclick=\"quickchart('df-e6dc6130-5c8c-4606-bc0e-94cc3170af86')\"\n",
              "            title=\"Suggest charts\"\n",
              "            style=\"display:none;\">\n",
              "\n",
              "<svg xmlns=\"http://www.w3.org/2000/svg\" height=\"24px\"viewBox=\"0 0 24 24\"\n",
              "     width=\"24px\">\n",
              "    <g>\n",
              "        <path d=\"M19 3H5c-1.1 0-2 .9-2 2v14c0 1.1.9 2 2 2h14c1.1 0 2-.9 2-2V5c0-1.1-.9-2-2-2zM9 17H7v-7h2v7zm4 0h-2V7h2v10zm4 0h-2v-4h2v4z\"/>\n",
              "    </g>\n",
              "</svg>\n",
              "  </button>\n",
              "\n",
              "<style>\n",
              "  .colab-df-quickchart {\n",
              "      --bg-color: #E8F0FE;\n",
              "      --fill-color: #1967D2;\n",
              "      --hover-bg-color: #E2EBFA;\n",
              "      --hover-fill-color: #174EA6;\n",
              "      --disabled-fill-color: #AAA;\n",
              "      --disabled-bg-color: #DDD;\n",
              "  }\n",
              "\n",
              "  [theme=dark] .colab-df-quickchart {\n",
              "      --bg-color: #3B4455;\n",
              "      --fill-color: #D2E3FC;\n",
              "      --hover-bg-color: #434B5C;\n",
              "      --hover-fill-color: #FFFFFF;\n",
              "      --disabled-bg-color: #3B4455;\n",
              "      --disabled-fill-color: #666;\n",
              "  }\n",
              "\n",
              "  .colab-df-quickchart {\n",
              "    background-color: var(--bg-color);\n",
              "    border: none;\n",
              "    border-radius: 50%;\n",
              "    cursor: pointer;\n",
              "    display: none;\n",
              "    fill: var(--fill-color);\n",
              "    height: 32px;\n",
              "    padding: 0;\n",
              "    width: 32px;\n",
              "  }\n",
              "\n",
              "  .colab-df-quickchart:hover {\n",
              "    background-color: var(--hover-bg-color);\n",
              "    box-shadow: 0 1px 2px rgba(60, 64, 67, 0.3), 0 1px 3px 1px rgba(60, 64, 67, 0.15);\n",
              "    fill: var(--button-hover-fill-color);\n",
              "  }\n",
              "\n",
              "  .colab-df-quickchart-complete:disabled,\n",
              "  .colab-df-quickchart-complete:disabled:hover {\n",
              "    background-color: var(--disabled-bg-color);\n",
              "    fill: var(--disabled-fill-color);\n",
              "    box-shadow: none;\n",
              "  }\n",
              "\n",
              "  .colab-df-spinner {\n",
              "    border: 2px solid var(--fill-color);\n",
              "    border-color: transparent;\n",
              "    border-bottom-color: var(--fill-color);\n",
              "    animation:\n",
              "      spin 1s steps(1) infinite;\n",
              "  }\n",
              "\n",
              "  @keyframes spin {\n",
              "    0% {\n",
              "      border-color: transparent;\n",
              "      border-bottom-color: var(--fill-color);\n",
              "      border-left-color: var(--fill-color);\n",
              "    }\n",
              "    20% {\n",
              "      border-color: transparent;\n",
              "      border-left-color: var(--fill-color);\n",
              "      border-top-color: var(--fill-color);\n",
              "    }\n",
              "    30% {\n",
              "      border-color: transparent;\n",
              "      border-left-color: var(--fill-color);\n",
              "      border-top-color: var(--fill-color);\n",
              "      border-right-color: var(--fill-color);\n",
              "    }\n",
              "    40% {\n",
              "      border-color: transparent;\n",
              "      border-right-color: var(--fill-color);\n",
              "      border-top-color: var(--fill-color);\n",
              "    }\n",
              "    60% {\n",
              "      border-color: transparent;\n",
              "      border-right-color: var(--fill-color);\n",
              "    }\n",
              "    80% {\n",
              "      border-color: transparent;\n",
              "      border-right-color: var(--fill-color);\n",
              "      border-bottom-color: var(--fill-color);\n",
              "    }\n",
              "    90% {\n",
              "      border-color: transparent;\n",
              "      border-bottom-color: var(--fill-color);\n",
              "    }\n",
              "  }\n",
              "</style>\n",
              "\n",
              "  <script>\n",
              "    async function quickchart(key) {\n",
              "      const quickchartButtonEl =\n",
              "        document.querySelector('#' + key + ' button');\n",
              "      quickchartButtonEl.disabled = true;  // To prevent multiple clicks.\n",
              "      quickchartButtonEl.classList.add('colab-df-spinner');\n",
              "      try {\n",
              "        const charts = await google.colab.kernel.invokeFunction(\n",
              "            'suggestCharts', [key], {});\n",
              "      } catch (error) {\n",
              "        console.error('Error during call to suggestCharts:', error);\n",
              "      }\n",
              "      quickchartButtonEl.classList.remove('colab-df-spinner');\n",
              "      quickchartButtonEl.classList.add('colab-df-quickchart-complete');\n",
              "    }\n",
              "    (() => {\n",
              "      let quickchartButtonEl =\n",
              "        document.querySelector('#df-e6dc6130-5c8c-4606-bc0e-94cc3170af86 button');\n",
              "      quickchartButtonEl.style.display =\n",
              "        google.colab.kernel.accessAllowed ? 'block' : 'none';\n",
              "    })();\n",
              "  </script>\n",
              "</div>\n",
              "\n",
              "    </div>\n",
              "  </div>\n"
            ],
            "application/vnd.google.colaboratory.intrinsic+json": {
              "type": "dataframe",
              "variable_name": "clean_df",
              "summary": "{\n  \"name\": \"clean_df\",\n  \"rows\": 2484,\n  \"fields\": [\n    {\n      \"column\": \"ID\",\n      \"properties\": {\n        \"dtype\": \"number\",\n        \"std\": 21457345,\n        \"min\": 3547447,\n        \"max\": 99806115,\n        \"num_unique_values\": 2484,\n        \"samples\": [\n          99244405,\n          17562754,\n          30311725\n        ],\n        \"semantic_type\": \"\",\n        \"description\": \"\"\n      }\n    },\n    {\n      \"column\": \"Category\",\n      \"properties\": {\n        \"dtype\": \"category\",\n        \"num_unique_values\": 24,\n        \"samples\": [\n          \"AGRICULTURE\",\n          \"APPAREL\",\n          \"HR\"\n        ],\n        \"semantic_type\": \"\",\n        \"description\": \"\"\n      }\n    },\n    {\n      \"column\": \"Feature\",\n      \"properties\": {\n        \"dtype\": \"string\",\n        \"num_unique_values\": 2481,\n        \"samples\": [\n          \"information technology specialist discountpcfix summary obsessed technology power change everything technology fuels passion commitment helping organizations set engage bring fresh ideas help team galvanize performance refine strategy spark new energy future get depends build connect create transform world accomplished years information technology support experience highly articulate capable experienced installing updating hardware software systems users known effectively optimizing systems meet changing demands enhancing collaboration improving security experienced operations analyst first rate skills organizing problem solving project management ready apply experience abilities take new professional challenges passionate driven professional remarkable analytical problem solving skills expert quality assurance tester offering five years experience detailed technical system specifications provides collaborative style well developed communication skills seeking role test reporting defect resolution well rounded team player dynamic written verbal communication skills hardworking resourceful team player history going achieve notable results offering excellent blend technical aptitude creative ability inspires design teams engaging management techniques innovative thinking resourceful technical support engineer polished restoring system functionality quickly assessing resolving diverse hardware software problems skills issue escalation reporting analysis quality control schematic understanding critical thinking data management network administration experience leadership improvement plan knowledge supervision hardware repair computer configurations system upgrades new program installations organizational leadership troubleshooting maintenance equipment repair power hand tool use troubleshooting repairs preventative maintenance telecommunications systems component repairs multitasking part inspections friendly positive attitude lan wan configurations server system administration end user training program installations software testing server improvements data backups project management security technologies network configuration time management active directory knowledge cybersecurity analysis system administration microsoft office ms office apple ios technician help desk assistance application software testing mechanical abilities information systems security professional advanced knowledge windows os advanced knowledge google chrome soldering database management technical knowledge server system softwares servers storage systems network equipment pcs notebooks brands experience information technology specialist discountpcfix current company name city state assisted client new computer network equipment purchases updated installed software customers ensure computer efficiency checked computers performed diagnostics repair backed data evening helping alleviate lost information following malware incident updated software versions patches new installations close security loopholes protect users identified hardware issues caused component failures using approved diagnostic tools installed motherboards processors graphics cards configured computers network drivers connected printers peripheral equipment upgraded laptops desktops improving speed performance fixed apple iphone imac ipad laptop products screen damage fixed brand windows os mac os chrome os products liquid damage observed system functioning entered commands test different areas operations explained technology related details easy understand terms individuals walks life various job positions responded assistance requests users directed individuals basic troubleshooting tasks reviewed current hardware software configurations recommended modifications increase system speed serviced repaired equipment according manufacturer guidelines installed new systems components according service orders manufacturer instructions assessed identified issues quickly resolved restore functionality built repaired computers according schedule installed configured setup pcs stores optimal operation reporting evaluated interfaces hardware software testing performance requirements studied complex technical issues determined proper resolution methods assisted post implementation troubleshooting new applications application upgrades determined alleviated hardware software network issues installed supported hardware software including desktops servers printers identified operational performance issues worked managers resolve concerns completed various reports analyzed report decide improvements could made recommended process systems improvements changes operations updated hardware software availability supervised network eliminate bottlenecks immediately handled network configurations hours weekends alleviate downtime maintain smooth operations assisted customers various types technical issues email live telephone delivered local remote tier support hardware software company personnel disassembled computer systems troubleshoot resolve hardware issues increased overall company performance improved uptime cost reductions quality control inspector contractor current company name city state conferred scientific engineering technical personnel resolve design research testing problems worked engineers facilitate research development testing correct mechanical failures generate technical specifications prior release developed implemented best practices defect prevention continuous improvement used specialized tools take precise measurements various aspects samples consulted engineers resolve quality production efficiency problems wrote detailed reports outlining performance quality defect rates completed non destructive tests visual inspections continuous basis inspected quality finished products making minor repairs meet project expectations documented nonconformities immediately recommended techniques prompt resolution completed non destructive tests visual inspections continuously reviewed drawings blueprints determine appropriate level inspection required adhered safety protocols minimize equipment damage avoid injuries assessed materials parts products conformance quality control requirements production specifications network analyst company name city state identified operational performance issues worked managers resolve concerns supporting following hardware types servers storage systems network equipment pcs ipad notebooks brands analyzed operational performance identify pain points provided actionable solutions management educated personnel company policies foster improved customer retention increased revenue technical knowledge standard server system software linux windows vmware drove revenue customer retention visiting corporate franchise centers serving clients educate staff company policies customer styling applications wrote reports outlining results facilitate management decision making executed monitored standards user interfaces page design graphics development provided senior technical support house staff user departments network applications monitored project budget careful assessment resource usage task management ensure costs kept low supported customers password resets account customization recorded complaints product deficiencies returned orders customer documentation system supported customers data connectivity issues assisting troubleshooting steps rebooting hardware maintained composure patience face difficult customer situations applying escalation techniques positive customer support performed site evaluations customer surveys team audits promoted continuous improvement governance processes spearheaded server infrastructure development quality control staging production operations quality control manager company name city state stayed well informed company federal regulations bolstered compliance corporate processes used creative professional policy find solutions issues diminishing conflicts handled scheduling procedures department directed team members setting achieving goals observed customer specifications monitoring quality control finished products education training federal polytechnic ado ekiti city state associate science science technology phoenix east aviation city state f aircraft dispatcher license aviation university colorado boulder city certificate cybersecurity policy aviation internet google support city certificate completed professional course security defense digital dark arts operating system becoming power user bits bytes computer networking system administration infrastructure service technical support fundamentals\",\n          \"business development director summary collaborate multiple stakeholders determine audience needs quickly developing strategic plans align clients business priorities strategies experience business development director current company name city state producing measurable results clients designing unique engagement initiatives employees sales channel partners consumers groups sales performance improvement products intangible services fortune clients success discovering growing business customers potential spend million year designed innovative solutions customized customers various objectives end result needs managing internal teams develop design operate complex custom projects ranging value least millions titles called include entire c suite ceo coo cfo cmo president evp marketing sales human resources finance define business issues improve revenue penetrating existing accounts opening new sold new accounts current position managed sales volume profit margin long sales cycle managed hired staff work major global account travel meetings business years total book business constantly million year nearly twice entertainment activity similar tenure achieved million sales twice becoming trusted partner clients customers want win account territory district sales manager national account sales company name city state responsible growth distributor sales volume product mix motivation dsr sales forces developed custom local training marketing materials later adopted nestle corporate distributor chain accounts accounted million sales increased chain accounts national accounts created sales forecasts developed budgets strategic plans managed entire regional office staff working team grew business nestle largest account nearly double surpassed sales budget goals year manager twice led company nationally new product introductions district sales grew million million district manager hired five salespeople direct reports promoted managed eight account managers time developed new reports marketing promotional strategies field designed account reviews process management field training programs entire company sold small business owners managed distributor sales accounts using strategic planning innovative programming cultivating strong personal relationships took area territory sales million mature company industry average annual increase financial operations executive department merchandising manager company name city state financial operations executive south bend store volunteered merchandise manager stores largest department role department highest foot sales volume department entire corporation th quarter accomplishments times president achievement guild award winner sales volume profit times president achievement award winner sales volume profit times achievement guild winner leadership year running combined volume top travel meetings sales several times biw national sales contest superbowl twice awarded achiever year profitable direct customer reviewed consistently management career outstanding exceeding expectations college elected executive positions finance club resident housing association skills sales business development distributor sales territory sales district sales sales solutions sales teams sales accounts national accounts sales management strategic accounts sales promotions travel meeting sales technology application sales clients management marketing budget budgets forecasts promotional travel meeting operations strategic planning training training development financial operations merchandising corporate operations employee engagement managing existing accounts forecasting human resources finding new accounts relationship building strategic direction education bachelor business administration finance general business western michigan university city state earned educational living costs jobs worked college industrial heavy construction excelled several sales roles including direct sales home goods direct sales national trip ranked top country sales started twosuccessful campus businesses member varsity division football team years organizations imex milford memories planning board huron valley youth baseball president treasurer director travel baseball lakeland milford travel secretary milford high school baseball instructor\",\n          \"engineering intern personal summary age years permanenet residency australia new zealand citizen currently living sydney australia knowledge base c python r stk catia ansys latex solidworks microsoft office microsoft project academic background high school diploma mathematics physics chemistry engineering nortmead high school city state australia ranked st place unit mathematics physics chemistry engineering studies ranked rd place extension mathematics english advanced received nd highest atar school bachelor science bachelor engineering honours aerospace university new south wales unsw city state australia maintained distinction final years university obtained high distinction distinction results advanced rd th year subjects engineering faculty dynamics aerospace vehicles avionics finite element methods aerodynamics professional engineering communication thesis using matlab programming certifications credentials scrum fundamentals certified data science fundamentals certified oracle sql developer advanced sql sql expert progress experience engineering intern feb apr company name city state achievements collaborated team engineers different fields goal creating technical solutions product concerns raised customers produced test record documentation containing solutions customers contacted customers directly verbally convey test result explain solution procedure written documentation successfully independently scoped business opportunities technically analysing possible options presented information company director independently autonomously researched far regulations successfully create test record sheets containing correct load values test methodology structural load testing seats aeromedical transport vehicles quickly learned production article conformity procedures taught casa regulatory authorities applied knowledge techniques autonomously measure articles appropriate measuring equipment tools strict timeframes reported nonconformities provided recommendations modifications directly design engineer built tested verified products performing functional qualitative inspections discover faults issues production articles deduced failure modes items undergo structural load testing using problem solving skills analytical skills using finite element ansys software independently created equipment supports integrated safety barriers analytical cad assisted design construction using mechanical engineering methods tools equipment desoldered soldered electronic components circuit boards rapidly create multiple fully functioning led lights used electronic medical equipment sales representative may jan company name city efficiently recorded sales orders purchase orders fire warning systems lights electrical fittings cameras displayed excellent customer service skills interpersonal skills communicating australian international customers phone provide information products maintaining regular email phone contact customers collaborated sales manager provide updates progress accounts prepared followed customer quotes turned leads appointments provided training customers ensure efficiently clean correctly use maintain company product applied regular follow process maximizing sales enquiry selling new customers identifying sales opportunities basic repairs maintenance existing customers ensuring email telephone enquiries answered minutes displayed ability focus high pressure environments calmly handling customer complaints showed flexibility collaborating administration team demanding times complete administrative tasks update records demonstrated attention detail utilizing time management skills setting goals prioritizing tasks creating schedules work strict deadlines tutor feb may company name city state tutored students one one classes group classes using effective teaching techniques help students ranging year difficulties science mathematics physics chemistry english provided assistance students ranging year fast paced homework help classes mechanical design engineer aug jul company name city state shared responsibility designing cubesat leader mechanical design team entry canadian satellite design challenge csdc solidworks structurally tested ansys printed completion design communicated teams fields using jira involved constructing mars rover entry european rover challenge erc led mechanical team designing gimbal gyroscopic testbed reaction wheel system solidworks displayed future students form printed model trained new members mechanical team using solidworks taught thermal electrical structural concepts memberships bluesat basic low earth orbit unsw experimental satellite group engineers australia achievements shared responsibility designing cubesat leader mechanical design team entry canadian satellite design challenge csdc solidworks structurally tested ansys printed completion design communicated teams fields using jira involved constructing mars rover entry european rover challenge erc led mechanical team designing gimbal gyroscopic testbed reaction wheel system solidworks displayed future students form printed modeltrained new members mechanical team using solidworks taught thermal electrical structural concepts community services social support youth services volunteer karabi community development services wentworthville sydney going achievements displayed passion social service support teaching facilitating setting activities events elderly people disabilities children provided assistance administration creative work office facilitating supervising youth school holiday programs personal interests hobbies traveling tennis hiking statistics cad drawing aircraft spacecraft astronomy\"\n        ],\n        \"semantic_type\": \"\",\n        \"description\": \"\"\n      }\n    }\n  ]\n}"
            }
          },
          "metadata": {},
          "execution_count": 8
        }
      ]
    },
    {
      "cell_type": "code",
      "source": [
        "clean_df.shape"
      ],
      "metadata": {
        "colab": {
          "base_uri": "https://localhost:8080/"
        },
        "id": "rgT4J_g0BvCu",
        "outputId": "02a2c226-f034-449a-a7c1-71612b40284a"
      },
      "execution_count": 9,
      "outputs": [
        {
          "output_type": "execute_result",
          "data": {
            "text/plain": [
              "(2484, 3)"
            ]
          },
          "metadata": {},
          "execution_count": 9
        }
      ]
    },
    {
      "cell_type": "code",
      "source": [
        "#exploratory Data analysis\n",
        "clean_df[\"Category\"].value_counts()"
      ],
      "metadata": {
        "colab": {
          "base_uri": "https://localhost:8080/",
          "height": 868
        },
        "id": "hCn62fjuByPS",
        "outputId": "7d691d57-d4f3-4e46-ab53-845e98f09119"
      },
      "execution_count": 10,
      "outputs": [
        {
          "output_type": "execute_result",
          "data": {
            "text/plain": [
              "Category\n",
              "INFORMATION-TECHNOLOGY    120\n",
              "BUSINESS-DEVELOPMENT      120\n",
              "FINANCE                   118\n",
              "ADVOCATE                  118\n",
              "ACCOUNTANT                118\n",
              "ENGINEERING               118\n",
              "CHEF                      118\n",
              "AVIATION                  117\n",
              "FITNESS                   117\n",
              "SALES                     116\n",
              "BANKING                   115\n",
              "HEALTHCARE                115\n",
              "CONSULTANT                115\n",
              "CONSTRUCTION              112\n",
              "PUBLIC-RELATIONS          111\n",
              "HR                        110\n",
              "DESIGNER                  107\n",
              "ARTS                      103\n",
              "TEACHER                   102\n",
              "APPAREL                    97\n",
              "DIGITAL-MEDIA              96\n",
              "AGRICULTURE                63\n",
              "AUTOMOBILE                 36\n",
              "BPO                        22\n",
              "Name: count, dtype: int64"
            ],
            "text/html": [
              "<div>\n",
              "<style scoped>\n",
              "    .dataframe tbody tr th:only-of-type {\n",
              "        vertical-align: middle;\n",
              "    }\n",
              "\n",
              "    .dataframe tbody tr th {\n",
              "        vertical-align: top;\n",
              "    }\n",
              "\n",
              "    .dataframe thead th {\n",
              "        text-align: right;\n",
              "    }\n",
              "</style>\n",
              "<table border=\"1\" class=\"dataframe\">\n",
              "  <thead>\n",
              "    <tr style=\"text-align: right;\">\n",
              "      <th></th>\n",
              "      <th>count</th>\n",
              "    </tr>\n",
              "    <tr>\n",
              "      <th>Category</th>\n",
              "      <th></th>\n",
              "    </tr>\n",
              "  </thead>\n",
              "  <tbody>\n",
              "    <tr>\n",
              "      <th>INFORMATION-TECHNOLOGY</th>\n",
              "      <td>120</td>\n",
              "    </tr>\n",
              "    <tr>\n",
              "      <th>BUSINESS-DEVELOPMENT</th>\n",
              "      <td>120</td>\n",
              "    </tr>\n",
              "    <tr>\n",
              "      <th>FINANCE</th>\n",
              "      <td>118</td>\n",
              "    </tr>\n",
              "    <tr>\n",
              "      <th>ADVOCATE</th>\n",
              "      <td>118</td>\n",
              "    </tr>\n",
              "    <tr>\n",
              "      <th>ACCOUNTANT</th>\n",
              "      <td>118</td>\n",
              "    </tr>\n",
              "    <tr>\n",
              "      <th>ENGINEERING</th>\n",
              "      <td>118</td>\n",
              "    </tr>\n",
              "    <tr>\n",
              "      <th>CHEF</th>\n",
              "      <td>118</td>\n",
              "    </tr>\n",
              "    <tr>\n",
              "      <th>AVIATION</th>\n",
              "      <td>117</td>\n",
              "    </tr>\n",
              "    <tr>\n",
              "      <th>FITNESS</th>\n",
              "      <td>117</td>\n",
              "    </tr>\n",
              "    <tr>\n",
              "      <th>SALES</th>\n",
              "      <td>116</td>\n",
              "    </tr>\n",
              "    <tr>\n",
              "      <th>BANKING</th>\n",
              "      <td>115</td>\n",
              "    </tr>\n",
              "    <tr>\n",
              "      <th>HEALTHCARE</th>\n",
              "      <td>115</td>\n",
              "    </tr>\n",
              "    <tr>\n",
              "      <th>CONSULTANT</th>\n",
              "      <td>115</td>\n",
              "    </tr>\n",
              "    <tr>\n",
              "      <th>CONSTRUCTION</th>\n",
              "      <td>112</td>\n",
              "    </tr>\n",
              "    <tr>\n",
              "      <th>PUBLIC-RELATIONS</th>\n",
              "      <td>111</td>\n",
              "    </tr>\n",
              "    <tr>\n",
              "      <th>HR</th>\n",
              "      <td>110</td>\n",
              "    </tr>\n",
              "    <tr>\n",
              "      <th>DESIGNER</th>\n",
              "      <td>107</td>\n",
              "    </tr>\n",
              "    <tr>\n",
              "      <th>ARTS</th>\n",
              "      <td>103</td>\n",
              "    </tr>\n",
              "    <tr>\n",
              "      <th>TEACHER</th>\n",
              "      <td>102</td>\n",
              "    </tr>\n",
              "    <tr>\n",
              "      <th>APPAREL</th>\n",
              "      <td>97</td>\n",
              "    </tr>\n",
              "    <tr>\n",
              "      <th>DIGITAL-MEDIA</th>\n",
              "      <td>96</td>\n",
              "    </tr>\n",
              "    <tr>\n",
              "      <th>AGRICULTURE</th>\n",
              "      <td>63</td>\n",
              "    </tr>\n",
              "    <tr>\n",
              "      <th>AUTOMOBILE</th>\n",
              "      <td>36</td>\n",
              "    </tr>\n",
              "    <tr>\n",
              "      <th>BPO</th>\n",
              "      <td>22</td>\n",
              "    </tr>\n",
              "  </tbody>\n",
              "</table>\n",
              "</div><br><label><b>dtype:</b> int64</label>"
            ]
          },
          "metadata": {},
          "execution_count": 10
        }
      ]
    },
    {
      "cell_type": "code",
      "source": [
        "plt.figure(figsize=(10,10))\n",
        "sns.countplot(x=\"Category\",data=clean_df,palette='husl')\n",
        "plt.xticks(rotation=90)\n",
        "plt.show()"
      ],
      "metadata": {
        "colab": {
          "base_uri": "https://localhost:8080/",
          "height": 1000
        },
        "id": "sEf5VcuDCSFU",
        "outputId": "2e15dabb-59ea-4e5b-9a72-80fca21b1d7e"
      },
      "execution_count": 15,
      "outputs": [
        {
          "output_type": "stream",
          "name": "stderr",
          "text": [
            "<ipython-input-15-2042b9abf3bb>:2: FutureWarning: \n",
            "\n",
            "Passing `palette` without assigning `hue` is deprecated and will be removed in v0.14.0. Assign the `x` variable to `hue` and set `legend=False` for the same effect.\n",
            "\n",
            "  sns.countplot(x=\"Category\",data=clean_df,palette='husl')\n"
          ]
        },
        {
          "output_type": "display_data",
          "data": {
            "text/plain": [
              "<Figure size 1000x1000 with 1 Axes>"
            ],
            "image/png": "[encoded data removed]"
          },
          "metadata": {}
        }
      ]
    },
    {
      "cell_type": "code",
      "source": [
        "# as there are uneven count of categories we have do sampling\n",
        "from sklearn.utils import resample"
      ],
      "metadata": {
        "id": "ReYSPfNFDQbG"
      },
      "execution_count": 17,
      "outputs": []
    },
    {
      "cell_type": "code",
      "source": [
        "max_count=clean_df[\"Category\"].value_counts().max()\n",
        "print(max_count)"
      ],
      "metadata": {
        "colab": {
          "base_uri": "https://localhost:8080/"
        },
        "id": "uvLEDRO5Eufa",
        "outputId": "754806a1-b2cd-4b7c-aa87-92cbc52715a9"
      },
      "execution_count": 19,
      "outputs": [
        {
          "output_type": "stream",
          "name": "stdout",
          "text": [
            "120\n"
          ]
        }
      ]
    },
    {
      "cell_type": "code",
      "source": [
        "balanced_data = []\n",
        "for category in clean_df['Category'].unique():\n",
        "    category_data = clean_df[clean_df['Category'] == category]\n",
        "    if len(category_data) < max_count:\n",
        "        # Perform oversampling for categories with fewer samples\n",
        "        balanced_category_data = resample(category_data, replace=True, n_samples=max_count, random_state=42)\n",
        "    else:\n",
        "        # Perform undersampling for categories with more samples\n",
        "        balanced_category_data = resample(category_data, replace=False, n_samples=max_count, random_state=42)\n",
        "    balanced_data.append(balanced_category_data)\n",
        "\n",
        "# Concatenate the balanced data for all categories\n",
        "balanced_df = pd.concat(balanced_data)\n",
        "\n"
      ],
      "metadata": {
        "id": "JGarfrIzHomg"
      },
      "execution_count": 54,
      "outputs": []
    },
    {
      "cell_type": "code",
      "source": [
        "balanced_df[\"Category\"].value_counts()"
      ],
      "metadata": {
        "colab": {
          "base_uri": "https://localhost:8080/",
          "height": 868
        },
        "id": "W1gy23B1KBUi",
        "outputId": "5bc3beef-b34c-4bab-833a-05b734a8ddd7"
      },
      "execution_count": 45,
      "outputs": [
        {
          "output_type": "execute_result",
          "data": {
            "text/plain": [
              "Category\n",
              "HR                        120\n",
              "DESIGNER                  120\n",
              "ARTS                      120\n",
              "BANKING                   120\n",
              "PUBLIC-RELATIONS          120\n",
              "CONSTRUCTION              120\n",
              "ACCOUNTANT                120\n",
              "ENGINEERING               120\n",
              "APPAREL                   120\n",
              "FINANCE                   120\n",
              "CHEF                      120\n",
              "AUTOMOBILE                120\n",
              "DIGITAL-MEDIA             120\n",
              "CONSULTANT                120\n",
              "SALES                     120\n",
              "BPO                       120\n",
              "AGRICULTURE               120\n",
              "FITNESS                   120\n",
              "HEALTHCARE                120\n",
              "BUSINESS-DEVELOPMENT      120\n",
              "ADVOCATE                  120\n",
              "TEACHER                   120\n",
              "INFORMATION-TECHNOLOGY    120\n",
              "AVIATION                  120\n",
              "Name: count, dtype: int64"
            ],
            "text/html": [
              "<div>\n",
              "<style scoped>\n",
              "    .dataframe tbody tr th:only-of-type {\n",
              "        vertical-align: middle;\n",
              "    }\n",
              "\n",
              "    .dataframe tbody tr th {\n",
              "        vertical-align: top;\n",
              "    }\n",
              "\n",
              "    .dataframe thead th {\n",
              "        text-align: right;\n",
              "    }\n",
              "</style>\n",
              "<table border=\"1\" class=\"dataframe\">\n",
              "  <thead>\n",
              "    <tr style=\"text-align: right;\">\n",
              "      <th></th>\n",
              "      <th>count</th>\n",
              "    </tr>\n",
              "    <tr>\n",
              "      <th>Category</th>\n",
              "      <th></th>\n",
              "    </tr>\n",
              "  </thead>\n",
              "  <tbody>\n",
              "    <tr>\n",
              "      <th>HR</th>\n",
              "      <td>120</td>\n",
              "    </tr>\n",
              "    <tr>\n",
              "      <th>DESIGNER</th>\n",
              "      <td>120</td>\n",
              "    </tr>\n",
              "    <tr>\n",
              "      <th>ARTS</th>\n",
              "      <td>120</td>\n",
              "    </tr>\n",
              "    <tr>\n",
              "      <th>BANKING</th>\n",
              "      <td>120</td>\n",
              "    </tr>\n",
              "    <tr>\n",
              "      <th>PUBLIC-RELATIONS</th>\n",
              "      <td>120</td>\n",
              "    </tr>\n",
              "    <tr>\n",
              "      <th>CONSTRUCTION</th>\n",
              "      <td>120</td>\n",
              "    </tr>\n",
              "    <tr>\n",
              "      <th>ACCOUNTANT</th>\n",
              "      <td>120</td>\n",
              "    </tr>\n",
              "    <tr>\n",
              "      <th>ENGINEERING</th>\n",
              "      <td>120</td>\n",
              "    </tr>\n",
              "    <tr>\n",
              "      <th>APPAREL</th>\n",
              "      <td>120</td>\n",
              "    </tr>\n",
              "    <tr>\n",
              "      <th>FINANCE</th>\n",
              "      <td>120</td>\n",
              "    </tr>\n",
              "    <tr>\n",
              "      <th>CHEF</th>\n",
              "      <td>120</td>\n",
              "    </tr>\n",
              "    <tr>\n",
              "      <th>AUTOMOBILE</th>\n",
              "      <td>120</td>\n",
              "    </tr>\n",
              "    <tr>\n",
              "      <th>DIGITAL-MEDIA</th>\n",
              "      <td>120</td>\n",
              "    </tr>\n",
              "    <tr>\n",
              "      <th>CONSULTANT</th>\n",
              "      <td>120</td>\n",
              "    </tr>\n",
              "    <tr>\n",
              "      <th>SALES</th>\n",
              "      <td>120</td>\n",
              "    </tr>\n",
              "    <tr>\n",
              "      <th>BPO</th>\n",
              "      <td>120</td>\n",
              "    </tr>\n",
              "    <tr>\n",
              "      <th>AGRICULTURE</th>\n",
              "      <td>120</td>\n",
              "    </tr>\n",
              "    <tr>\n",
              "      <th>FITNESS</th>\n",
              "      <td>120</td>\n",
              "    </tr>\n",
              "    <tr>\n",
              "      <th>HEALTHCARE</th>\n",
              "      <td>120</td>\n",
              "    </tr>\n",
              "    <tr>\n",
              "      <th>BUSINESS-DEVELOPMENT</th>\n",
              "      <td>120</td>\n",
              "    </tr>\n",
              "    <tr>\n",
              "      <th>ADVOCATE</th>\n",
              "      <td>120</td>\n",
              "    </tr>\n",
              "    <tr>\n",
              "      <th>TEACHER</th>\n",
              "      <td>120</td>\n",
              "    </tr>\n",
              "    <tr>\n",
              "      <th>INFORMATION-TECHNOLOGY</th>\n",
              "      <td>120</td>\n",
              "    </tr>\n",
              "    <tr>\n",
              "      <th>AVIATION</th>\n",
              "      <td>120</td>\n",
              "    </tr>\n",
              "  </tbody>\n",
              "</table>\n",
              "</div><br><label><b>dtype:</b> int64</label>"
            ]
          },
          "metadata": {},
          "execution_count": 45
        }
      ]
    },
    {
      "cell_type": "code",
      "source": [
        "balanced_df"
      ],
      "metadata": {
        "colab": {
          "base_uri": "https://localhost:8080/",
          "height": 423
        },
        "id": "pVCPDmxeR9MJ",
        "outputId": "8b5e2243-b45e-48cc-b09e-17be4ffcd7b1"
      },
      "execution_count": 53,
      "outputs": [
        {
          "output_type": "execute_result",
          "data": {
            "text/plain": [
              "            ID  Category                                            Feature\n",
              "0     10399912        HR  hr personnel assistant summary u citizen autho...\n",
              "1     39650734        HR  hr assistant summary hard worker dedicated det...\n",
              "2     23510685        HR  global hr manager summary global hr profession...\n",
              "3     27490876        HR  hr coordinator summary applicant screening bac...\n",
              "4     24402267        HR  designation hr assistant professional summary ...\n",
              "...        ...       ...                                                ...\n",
              "2875  26888302  AVIATION  aviation fuel quality control specialist profe...\n",
              "2876  81588968  AVIATION  superintendent ii summary solutions focused ve...\n",
              "2877  27512470  AVIATION  assistant cfo professional summary dedicated f...\n",
              "2878  25718772  AVIATION  tso floater career overview obtain position fa...\n",
              "2879  25625173  AVIATION  senior lead technologist editor professional p...\n",
              "\n",
              "[2879 rows x 3 columns]"
            ],
            "text/html": [
              "\n",
              "  <div id=\"df-6e08d020-f504-4c9d-9316-100e99bbc7e4\" class=\"colab-df-container\">\n",
              "    <div>\n",
              "<style scoped>\n",
              "    .dataframe tbody tr th:only-of-type {\n",
              "        vertical-align: middle;\n",
              "    }\n",
              "\n",
              "    .dataframe tbody tr th {\n",
              "        vertical-align: top;\n",
              "    }\n",
              "\n",
              "    .dataframe thead th {\n",
              "        text-align: right;\n",
              "    }\n",
              "</style>\n",
              "<table border=\"1\" class=\"dataframe\">\n",
              "  <thead>\n",
              "    <tr style=\"text-align: right;\">\n",
              "      <th></th>\n",
              "      <th>ID</th>\n",
              "      <th>Category</th>\n",
              "      <th>Feature</th>\n",
              "    </tr>\n",
              "  </thead>\n",
              "  <tbody>\n",
              "    <tr>\n",
              "      <th>0</th>\n",
              "      <td>10399912</td>\n",
              "      <td>HR</td>\n",
              "      <td>hr personnel assistant summary u citizen autho...</td>\n",
              "    </tr>\n",
              "    <tr>\n",
              "      <th>1</th>\n",
              "      <td>39650734</td>\n",
              "      <td>HR</td>\n",
              "      <td>hr assistant summary hard worker dedicated det...</td>\n",
              "    </tr>\n",
              "    <tr>\n",
              "      <th>2</th>\n",
              "      <td>23510685</td>\n",
              "      <td>HR</td>\n",
              "      <td>global hr manager summary global hr profession...</td>\n",
              "    </tr>\n",
              "    <tr>\n",
              "      <th>3</th>\n",
              "      <td>27490876</td>\n",
              "      <td>HR</td>\n",
              "      <td>hr coordinator summary applicant screening bac...</td>\n",
              "    </tr>\n",
              "    <tr>\n",
              "      <th>4</th>\n",
              "      <td>24402267</td>\n",
              "      <td>HR</td>\n",
              "      <td>designation hr assistant professional summary ...</td>\n",
              "    </tr>\n",
              "    <tr>\n",
              "      <th>...</th>\n",
              "      <td>...</td>\n",
              "      <td>...</td>\n",
              "      <td>...</td>\n",
              "    </tr>\n",
              "    <tr>\n",
              "      <th>2875</th>\n",
              "      <td>26888302</td>\n",
              "      <td>AVIATION</td>\n",
              "      <td>aviation fuel quality control specialist profe...</td>\n",
              "    </tr>\n",
              "    <tr>\n",
              "      <th>2876</th>\n",
              "      <td>81588968</td>\n",
              "      <td>AVIATION</td>\n",
              "      <td>superintendent ii summary solutions focused ve...</td>\n",
              "    </tr>\n",
              "    <tr>\n",
              "      <th>2877</th>\n",
              "      <td>27512470</td>\n",
              "      <td>AVIATION</td>\n",
              "      <td>assistant cfo professional summary dedicated f...</td>\n",
              "    </tr>\n",
              "    <tr>\n",
              "      <th>2878</th>\n",
              "      <td>25718772</td>\n",
              "      <td>AVIATION</td>\n",
              "      <td>tso floater career overview obtain position fa...</td>\n",
              "    </tr>\n",
              "    <tr>\n",
              "      <th>2879</th>\n",
              "      <td>25625173</td>\n",
              "      <td>AVIATION</td>\n",
              "      <td>senior lead technologist editor professional p...</td>\n",
              "    </tr>\n",
              "  </tbody>\n",
              "</table>\n",
              "<p>2879 rows × 3 columns</p>\n",
              "</div>\n",
              "    <div class=\"colab-df-buttons\">\n",
              "\n",
              "  <div class=\"colab-df-container\">\n",
              "    <button class=\"colab-df-convert\" onclick=\"convertToInteractive('df-6e08d020-f504-4c9d-9316-100e99bbc7e4')\"\n",
              "            title=\"Convert this dataframe to an interactive table.\"\n",
              "            style=\"display:none;\">\n",
              "\n",
              "  <svg xmlns=\"http://www.w3.org/2000/svg\" height=\"24px\" viewBox=\"0 -960 960 960\">\n",
              "    <path d=\"M120-120v-720h720v720H120Zm60-500h600v-160H180v160Zm220 220h160v-160H400v160Zm0 220h160v-160H400v160ZM180-400h160v-160H180v160Zm440 0h160v-160H620v160ZM180-180h160v-160H180v160Zm440 0h160v-160H620v160Z\"/>\n",
              "  </svg>\n",
              "    </button>\n",
              "\n",
              "  <style>\n",
              "    .colab-df-container {\n",
              "      display:flex;\n",
              "      gap: 12px;\n",
              "    }\n",
              "\n",
              "    .colab-df-convert {\n",
              "      background-color: #E8F0FE;\n",
              "      border: none;\n",
              "      border-radius: 50%;\n",
              "      cursor: pointer;\n",
              "      display: none;\n",
              "      fill: #1967D2;\n",
              "      height: 32px;\n",
              "      padding: 0 0 0 0;\n",
              "      width: 32px;\n",
              "    }\n",
              "\n",
              "    .colab-df-convert:hover {\n",
              "      background-color: #E2EBFA;\n",
              "      box-shadow: 0px 1px 2px rgba(60, 64, 67, 0.3), 0px 1px 3px 1px rgba(60, 64, 67, 0.15);\n",
              "      fill: #174EA6;\n",
              "    }\n",
              "\n",
              "    .colab-df-buttons div {\n",
              "      margin-bottom: 4px;\n",
              "    }\n",
              "\n",
              "    [theme=dark] .colab-df-convert {\n",
              "      background-color: #3B4455;\n",
              "      fill: #D2E3FC;\n",
              "    }\n",
              "\n",
              "    [theme=dark] .colab-df-convert:hover {\n",
              "      background-color: #434B5C;\n",
              "      box-shadow: 0px 1px 3px 1px rgba(0, 0, 0, 0.15);\n",
              "      filter: drop-shadow(0px 1px 2px rgba(0, 0, 0, 0.3));\n",
              "      fill: #FFFFFF;\n",
              "    }\n",
              "  </style>\n",
              "\n",
              "    <script>\n",
              "      const buttonEl =\n",
              "        document.querySelector('#df-6e08d020-f504-4c9d-9316-100e99bbc7e4 button.colab-df-convert');\n",
              "      buttonEl.style.display =\n",
              "        google.colab.kernel.accessAllowed ? 'block' : 'none';\n",
              "\n",
              "      async function convertToInteractive(key) {\n",
              "        const element = document.querySelector('#df-6e08d020-f504-4c9d-9316-100e99bbc7e4');\n",
              "        const dataTable =\n",
              "          await google.colab.kernel.invokeFunction('convertToInteractive',\n",
              "                                                    [key], {});\n",
              "        if (!dataTable) return;\n",
              "\n",
              "        const docLinkHtml = 'Like what you see? Visit the ' +\n",
              "          '<a target=\"_blank\" href=https://colab.research.google.com/notebooks/data_table.ipynb>data table notebook</a>'\n",
              "          + ' to learn more about interactive tables.';\n",
              "        element.innerHTML = '';\n",
              "        dataTable['output_type'] = 'display_data';\n",
              "        await google.colab.output.renderOutput(dataTable, element);\n",
              "        const docLink = document.createElement('div');\n",
              "        docLink.innerHTML = docLinkHtml;\n",
              "        element.appendChild(docLink);\n",
              "      }\n",
              "    </script>\n",
              "  </div>\n",
              "\n",
              "\n",
              "<div id=\"df-26fd086e-40d4-418c-b394-792a5c141ddd\">\n",
              "  <button class=\"colab-df-quickchart\" onclick=\"quickchart('df-26fd086e-40d4-418c-b394-792a5c141ddd')\"\n",
              "            title=\"Suggest charts\"\n",
              "            style=\"display:none;\">\n",
              "\n",
              "<svg xmlns=\"http://www.w3.org/2000/svg\" height=\"24px\"viewBox=\"0 0 24 24\"\n",
              "     width=\"24px\">\n",
              "    <g>\n",
              "        <path d=\"M19 3H5c-1.1 0-2 .9-2 2v14c0 1.1.9 2 2 2h14c1.1 0 2-.9 2-2V5c0-1.1-.9-2-2-2zM9 17H7v-7h2v7zm4 0h-2V7h2v10zm4 0h-2v-4h2v4z\"/>\n",
              "    </g>\n",
              "</svg>\n",
              "  </button>\n",
              "\n",
              "<style>\n",
              "  .colab-df-quickchart {\n",
              "      --bg-color: #E8F0FE;\n",
              "      --fill-color: #1967D2;\n",
              "      --hover-bg-color: #E2EBFA;\n",
              "      --hover-fill-color: #174EA6;\n",
              "      --disabled-fill-color: #AAA;\n",
              "      --disabled-bg-color: #DDD;\n",
              "  }\n",
              "\n",
              "  [theme=dark] .colab-df-quickchart {\n",
              "      --bg-color: #3B4455;\n",
              "      --fill-color: #D2E3FC;\n",
              "      --hover-bg-color: #434B5C;\n",
              "      --hover-fill-color: #FFFFFF;\n",
              "      --disabled-bg-color: #3B4455;\n",
              "      --disabled-fill-color: #666;\n",
              "  }\n",
              "\n",
              "  .colab-df-quickchart {\n",
              "    background-color: var(--bg-color);\n",
              "    border: none;\n",
              "    border-radius: 50%;\n",
              "    cursor: pointer;\n",
              "    display: none;\n",
              "    fill: var(--fill-color);\n",
              "    height: 32px;\n",
              "    padding: 0;\n",
              "    width: 32px;\n",
              "  }\n",
              "\n",
              "  .colab-df-quickchart:hover {\n",
              "    background-color: var(--hover-bg-color);\n",
              "    box-shadow: 0 1px 2px rgba(60, 64, 67, 0.3), 0 1px 3px 1px rgba(60, 64, 67, 0.15);\n",
              "    fill: var(--button-hover-fill-color);\n",
              "  }\n",
              "\n",
              "  .colab-df-quickchart-complete:disabled,\n",
              "  .colab-df-quickchart-complete:disabled:hover {\n",
              "    background-color: var(--disabled-bg-color);\n",
              "    fill: var(--disabled-fill-color);\n",
              "    box-shadow: none;\n",
              "  }\n",
              "\n",
              "  .colab-df-spinner {\n",
              "    border: 2px solid var(--fill-color);\n",
              "    border-color: transparent;\n",
              "    border-bottom-color: var(--fill-color);\n",
              "    animation:\n",
              "      spin 1s steps(1) infinite;\n",
              "  }\n",
              "\n",
              "  @keyframes spin {\n",
              "    0% {\n",
              "      border-color: transparent;\n",
              "      border-bottom-color: var(--fill-color);\n",
              "      border-left-color: var(--fill-color);\n",
              "    }\n",
              "    20% {\n",
              "      border-color: transparent;\n",
              "      border-left-color: var(--fill-color);\n",
              "      border-top-color: var(--fill-color);\n",
              "    }\n",
              "    30% {\n",
              "      border-color: transparent;\n",
              "      border-left-color: var(--fill-color);\n",
              "      border-top-color: var(--fill-color);\n",
              "      border-right-color: var(--fill-color);\n",
              "    }\n",
              "    40% {\n",
              "      border-color: transparent;\n",
              "      border-right-color: var(--fill-color);\n",
              "      border-top-color: var(--fill-color);\n",
              "    }\n",
              "    60% {\n",
              "      border-color: transparent;\n",
              "      border-right-color: var(--fill-color);\n",
              "    }\n",
              "    80% {\n",
              "      border-color: transparent;\n",
              "      border-right-color: var(--fill-color);\n",
              "      border-bottom-color: var(--fill-color);\n",
              "    }\n",
              "    90% {\n",
              "      border-color: transparent;\n",
              "      border-bottom-color: var(--fill-color);\n",
              "    }\n",
              "  }\n",
              "</style>\n",
              "\n",
              "  <script>\n",
              "    async function quickchart(key) {\n",
              "      const quickchartButtonEl =\n",
              "        document.querySelector('#' + key + ' button');\n",
              "      quickchartButtonEl.disabled = true;  // To prevent multiple clicks.\n",
              "      quickchartButtonEl.classList.add('colab-df-spinner');\n",
              "      try {\n",
              "        const charts = await google.colab.kernel.invokeFunction(\n",
              "            'suggestCharts', [key], {});\n",
              "      } catch (error) {\n",
              "        console.error('Error during call to suggestCharts:', error);\n",
              "      }\n",
              "      quickchartButtonEl.classList.remove('colab-df-spinner');\n",
              "      quickchartButtonEl.classList.add('colab-df-quickchart-complete');\n",
              "    }\n",
              "    (() => {\n",
              "      let quickchartButtonEl =\n",
              "        document.querySelector('#df-26fd086e-40d4-418c-b394-792a5c141ddd button');\n",
              "      quickchartButtonEl.style.display =\n",
              "        google.colab.kernel.accessAllowed ? 'block' : 'none';\n",
              "    })();\n",
              "  </script>\n",
              "</div>\n",
              "\n",
              "  <div id=\"id_e503227e-f90d-4f74-9d3b-58a89f032c04\">\n",
              "    <style>\n",
              "      .colab-df-generate {\n",
              "        background-color: #E8F0FE;\n",
              "        border: none;\n",
              "        border-radius: 50%;\n",
              "        cursor: pointer;\n",
              "        display: none;\n",
              "        fill: #1967D2;\n",
              "        height: 32px;\n",
              "        padding: 0 0 0 0;\n",
              "        width: 32px;\n",
              "      }\n",
              "\n",
              "      .colab-df-generate:hover {\n",
              "        background-color: #E2EBFA;\n",
              "        box-shadow: 0px 1px 2px rgba(60, 64, 67, 0.3), 0px 1px 3px 1px rgba(60, 64, 67, 0.15);\n",
              "        fill: #174EA6;\n",
              "      }\n",
              "\n",
              "      [theme=dark] .colab-df-generate {\n",
              "        background-color: #3B4455;\n",
              "        fill: #D2E3FC;\n",
              "      }\n",
              "\n",
              "      [theme=dark] .colab-df-generate:hover {\n",
              "        background-color: #434B5C;\n",
              "        box-shadow: 0px 1px 3px 1px rgba(0, 0, 0, 0.15);\n",
              "        filter: drop-shadow(0px 1px 2px rgba(0, 0, 0, 0.3));\n",
              "        fill: #FFFFFF;\n",
              "      }\n",
              "    </style>\n",
              "    <button class=\"colab-df-generate\" onclick=\"generateWithVariable('balanced_df')\"\n",
              "            title=\"Generate code using this dataframe.\"\n",
              "            style=\"display:none;\">\n",
              "\n",
              "  <svg xmlns=\"http://www.w3.org/2000/svg\" height=\"24px\"viewBox=\"0 0 24 24\"\n",
              "       width=\"24px\">\n",
              "    <path d=\"M7,19H8.4L18.45,9,17,7.55,7,17.6ZM5,21V16.75L18.45,3.32a2,2,0,0,1,2.83,0l1.4,1.43a1.91,1.91,0,0,1,.58,1.4,1.91,1.91,0,0,1-.58,1.4L9.25,21ZM18.45,9,17,7.55Zm-12,3A5.31,5.31,0,0,0,4.9,8.1,5.31,5.31,0,0,0,1,6.5,5.31,5.31,0,0,0,4.9,4.9,5.31,5.31,0,0,0,6.5,1,5.31,5.31,0,0,0,8.1,4.9,5.31,5.31,0,0,0,12,6.5,5.46,5.46,0,0,0,6.5,12Z\"/>\n",
              "  </svg>\n",
              "    </button>\n",
              "    <script>\n",
              "      (() => {\n",
              "      const buttonEl =\n",
              "        document.querySelector('#id_e503227e-f90d-4f74-9d3b-58a89f032c04 button.colab-df-generate');\n",
              "      buttonEl.style.display =\n",
              "        google.colab.kernel.accessAllowed ? 'block' : 'none';\n",
              "\n",
              "      buttonEl.onclick = () => {\n",
              "        google.colab.notebook.generateWithVariable('balanced_df');\n",
              "      }\n",
              "      })();\n",
              "    </script>\n",
              "  </div>\n",
              "\n",
              "    </div>\n",
              "  </div>\n"
            ],
            "application/vnd.google.colaboratory.intrinsic+json": {
              "type": "dataframe",
              "variable_name": "balanced_df",
              "summary": "{\n  \"name\": \"balanced_df\",\n  \"rows\": 2879,\n  \"fields\": [\n    {\n      \"column\": \"ID\",\n      \"properties\": {\n        \"dtype\": \"number\",\n        \"std\": 21897619,\n        \"min\": 3547447,\n        \"max\": 99806115,\n        \"num_unique_values\": 1718,\n        \"samples\": [\n          34151183,\n          22925443,\n          19164410\n        ],\n        \"semantic_type\": \"\",\n        \"description\": \"\"\n      }\n    },\n    {\n      \"column\": \"Category\",\n      \"properties\": {\n        \"dtype\": \"category\",\n        \"num_unique_values\": 24,\n        \"samples\": [\n          \"AGRICULTURE\",\n          \"APPAREL\",\n          \"HR\"\n        ],\n        \"semantic_type\": \"\",\n        \"description\": \"\"\n      }\n    },\n    {\n      \"column\": \"Feature\",\n      \"properties\": {\n        \"dtype\": \"string\",\n        \"num_unique_values\": 1717,\n        \"samples\": [\n          \"cashier career overview experienced receptionist personable enthusiastic receptionist years experience training operations customer service various positions including reception detail oriented professional skilled working independently diverse teams ensure results effective communicator comfortable people multicultural backgrounds demonstrated history establishing rapport leaders levels areas expertise customer service cash management order processing microsoft office electronic medical records interpersonal communications training instruction nonprofit case management medical terminology schedule maintenance multi line reception administrative support purchasing procedures vendor negotiations exam room preparation work experience cashier january january company name city state greeted customers arrival responded inquiries product policy information calculated costs managed cash drawer shifts ensure accuracy answered calls daily resolve customer concerns answer product questions issued credits receipts refunds customers maintained loyal clientele maintained cleanliness order checkout areas assisted pricing stocking products including special order coordination responded customer complaints resolve issues proactive helpful manner fitness instructor assistant january company name city state supported recreational sports team including coordination programs activities ensured compliance departmental policies procedures collaborated program coordinator various projects facilitated instruction group exercise people ages skill levels promoted correct form position alignment aerobic dance courses case manager january january company name city state collaborated case managers chicago family health center develop implement treatment plans high risk clients conducted individual intake assessments determine services served client advocate maintained developed resource files partnership social service community agencies implemented various therapeutic counseling methods ensure success progress provided care checking vital signs changing sterile dressings performed clerical tasks including reception data entry electronic medical records database monitored medication stock replace expired products purchasing assistant january january company name city state placed orders organizational supplies according approved purchase order processes negotiated prices vendors bulk routine products conducted research potential new vendors meet business needs verified accuracy incoming orders processed invoices tracked missing documentation performed annual inventory assets including identifying logging item served switchboard operator relief customer service clerk january company name city state prepared submissions underwriters including communicating status updates issues purged files prepared inactive records storage offsite maintained monthly activity reports ensured exceptional quality customer service mapping consultant assistant january january company name city state created statistical demographic maps clients based specifications needs trained supervised team seven interns collaborated clients ensure quality service mapping assistant january january company name city stateconducted research compiled data prepare demographic maps performed statistical information review bronzeville commercial residential development managed general office tasks including administrative support reception radiology assistant january january company name city state supported physicians x ray technicians capturing processing films organized maintained patient field complying confidentiality procedures assisted patient transfers ambulation fulfilled code card requests prepared operating hospital rooms adherence sanitation safety regulations office manager dental assistant january january company name city state managed office operations including schedule maintenance billing accounting provided multi line reception communicated patients insurance providers vendors assisted capture dental x rays prepared examination room dental trays mixed compounds cleanings fillings maintained patient records dentrix system updated treatment information educated patients proper dental hygiene follow care confirmed benefits patients specialists insurance providers educational background bachelor arts interdisciplinary studies social services northeastern illinois university interdisciplinary studies social services skills accounting administrative support benefits billing clerical counseling clientele client clients customer service data entry database documentation general office instruction insurance inventory office organizational policies pricing processes progress quality reception research safety switchboard operator\",\n          \"accountant helper summary seeking position accountant utilizing knowledge general accounting procedures order assist office periodic accounting processes highlights microsoft office excel word powerpoint advanced problem solving abilities critical thinking decisive excellent mathematical skills budgeting accomplishments payroll assistance assisted payroll preparation entered data cumulative payroll document research investigated analyzed client complaints identify resolve issues scheduling facilitated onboarding new employees scheduling training answering questions processing paperwork experience accountant helper may july company name city state assisted accounting clerk accounting tasks entered p r processed payments organized client billing folders procedure documentation performed general office duties filing scanning mail processing data entry assisted accounting manager different assignments reconciled bank statements ledger accounts assisted daily cash balancing major strengths good knowledge coordinating monitoring participating monthly accounting procedures strong know organizing preparation periodic financial reports depth knowledge preparing reconciliation outstanding payments knowledge liabilities payment obligation verified logged deadlines responding daily inquiries organized files developed spreadsheets faxed reports scanned documents dispersed incoming mail correct recipients office created maintained spreadsheets using advanced excel functions calculations develop reports lists laboratory technician iii september current company name city state receive prepare laboratory samples analysis following proper protocols ensure stored prepared disposed efficiently effectively record data pertaining experimentation research animal care measure weigh ingredients used testing purposes animal feed waste operate laboratory equipment spectrometers nitrogen determination apparatus air samplers centrifuges potential hydrogen ph meters perform tests adjust testing equipment prepare culture media following standard procedures maintain repair agricultural facilities equipment tools ensure operational readiness safety cleanliness prepare present agricultural demonstrations respond inquiries requests public require specialized scientific knowledge expertise supervise student workers train new technicians laboratory technician ii july september company name city state receive prepare laboratory samples analysis following proper protocols ensure stored prepared disposed efficiently effectively prepare samples analyzed icp analyze samples ph dual analyzer maintain repair agricultural facilities equipment tools ensure operational readiness safety cleanliness prepare laboratory reagents analytical purposes service walk customers prepare present agricultural demonstrations additional skills capabilities operate effectively agricultural laboratory setting willing participant environmentally sustainable work practices thoroughly perform standard calibrations excellent communication collaboration skills efficient precise recording presenting data proficient use laboratory application software instruments strong contributor achievement quality objectives education bachelor arts accounting ashford university city state usa advanced coursework business administration coursework business administration coursework advanced financial accounting contract law coursework minor business administration coursework human resource management business administration income tax reporting course specialized industry gaap course coursework international finance statistics microeconomics coursework accounting finance communications marketing coursework skills proficient microsoft office excel word powerpoint excellent mathematical skills capable analyzing trends variances excellent communication organizational skills able work high volume environment physically dexterous strong interpersonal communication multi tasking skills operate effectively agricultural laboratory setting willing participant environmentally sustainable work practices thoroughly perform standard calibrations excellent communication collaboration skills efficient precise recording presenting data proficient use laboratory application software instruments strong contributor achievement quality objectives\",\n          \"designer technical designer summary creative fashion designer catagories swim intimate apparel loungewear sportswear experience designing wovens cut sew knits creating technical drawings packages excellent time management organizational skills work ethic highlights detailed technical sketches technical packages line sheets garment fittings garment specing correspondence overseas vendors accomplishments co founded ulihu men women underwear loungewear company oversaw design technical design pieces managed production new york city experience designer technical designer january august company name city state responsible research development design season prepare technical packages styles excel illustrator source place orders fabrics trims sampling production oversee domestic development production nyc communicate factories ensure proper fit construction well maintaining timelines attend fittings responsible overall fit product review approve samples fit pre pro p costume designer wardrobe supervisor june august company name city state presented finalized costumes characters purchased made costumes agreed budget fit garments made alterations created costume plot script using synch onset facilitated loans several designers showrooms production march company name city state assisted product development stages sportswear daily correspondence domestic factories new york city garment district attended fittings took notes made updates sketches technical packages relayed changes vendors created line sheets mailers send buyers associate designer october company name city state ralph lauren sleepwear loungewear responsible design development foa foe loungewear programs well assisting head designer development lauren sleepwear line research develop existing emerging concepts trends inspiration color fabric silhouette research develop seasonal trends produce product presentations including color boards concept boards print story boards full figure flat sketch designs help sell concepts buyers partner merchandising edit line create detailed flat sketches using illustrator illustrations mock ups tech packs well catalog line sheets prepare pass design detail sheets trim sheets designs technical design work technical design achieve highest quality best fit possible responsible administration follow product design process including daily communication multiple overseas vendors ensure product development design related questions attend prototype pre production sample meetings review garments note changes participate fittings make revisions sketches design packages needed create manage trim sheets line sheets boards seasonal books tear books assistant archivist may august company name city state photographed described incoming assets designers vintage inspiration prototype heritage pieces assisted designers searching pulling garments fit particular theme query style cut color print detailing created mood detail boards garments archive designers requested assistant designer october company name city state assisted designer phases design process concept creation created detailed flat sketches specs hand computer adobe illustrator completed initial stages product development including tech packs cutters must issuing style numbers attended fittings took notes communicated updates patternmakers communicated head patternmaker seamstresses dailybasis oversee production orders created line sheets invoices wholesale orders researched new stores future sales maintained fabric library sourced new vendors necessary consulted clients concerning style fit color oxford li fung march august assistant patternmaker women sportswear division general assistant nine patternmakers large sample room assisted patternmakers draping revising patterns fittings transferred patterns muslins paper ensure guideline specs according tech packages responsible specing incoming sample garments education associate applied science fashion design f city state ba eastern european studies saint edward university city state computer skills adobe illustrator adobe photoshop microsoft excel microsoft office\"\n        ],\n        \"semantic_type\": \"\",\n        \"description\": \"\"\n      }\n    }\n  ]\n}"
            }
          },
          "metadata": {},
          "execution_count": 53
        }
      ]
    },
    {
      "cell_type": "markdown",
      "source": [],
      "metadata": {
        "id": "jlHRTGmVNq0d"
      }
    },
    {
      "cell_type": "markdown",
      "source": [
        "Train Test split"
      ],
      "metadata": {
        "id": "yiKuhe0rMgML"
      }
    },
    {
      "cell_type": "code",
      "source": [
        "x= balanced_df[\"Feature\"]\n",
        "y=balanced_df[\"Category\"]\n",
        "x_train,x_test,y_train,y_test=train_test_split(x,y,test_size=0.2,random_state=42)"
      ],
      "metadata": {
        "id": "gGBQm_VIMh2X"
      },
      "execution_count": 57,
      "outputs": []
    },
    {
      "cell_type": "code",
      "source": [
        "print(f\"x_train shape: {x_train.shape}\")\n",
        "print(f\"y_train shape: {y_train.shape}\")\n",
        "print(f\"x_test shape: {x_test.shape}\")\n",
        "print(f\"y_test shape: {y_test.shape}\")\n"
      ],
      "metadata": {
        "colab": {
          "base_uri": "https://localhost:8080/"
        },
        "id": "vMXjegRhMyDB",
        "outputId": "9a260ff0-8ca8-4c6e-b203-67dad6ea853d"
      },
      "execution_count": 58,
      "outputs": [
        {
          "output_type": "stream",
          "name": "stdout",
          "text": [
            "x_train shape: (2304,)\n",
            "y_train shape: (2304,)\n",
            "x_test shape: (576,)\n",
            "y_test shape: (576,)\n"
          ]
        }
      ]
    },
    {
      "cell_type": "markdown",
      "source": [
        "Encoding (TF-IDF)\n",
        "converting text into vectors"
      ],
      "metadata": {
        "id": "yEEHwqQdM4zM"
      }
    },
    {
      "cell_type": "code",
      "source": [
        "balanced_df.isnull().sum()"
      ],
      "metadata": {
        "colab": {
          "base_uri": "https://localhost:8080/",
          "height": 178
        },
        "id": "gs9ZRzIFVBUY",
        "outputId": "8462b684-00cb-4925-f186-a9dd3cb7d3c6"
      },
      "execution_count": 60,
      "outputs": [
        {
          "output_type": "execute_result",
          "data": {
            "text/plain": [
              "ID          0\n",
              "Category    0\n",
              "Feature     1\n",
              "dtype: int64"
            ],
            "text/html": [
              "<div>\n",
              "<style scoped>\n",
              "    .dataframe tbody tr th:only-of-type {\n",
              "        vertical-align: middle;\n",
              "    }\n",
              "\n",
              "    .dataframe tbody tr th {\n",
              "        vertical-align: top;\n",
              "    }\n",
              "\n",
              "    .dataframe thead th {\n",
              "        text-align: right;\n",
              "    }\n",
              "</style>\n",
              "<table border=\"1\" class=\"dataframe\">\n",
              "  <thead>\n",
              "    <tr style=\"text-align: right;\">\n",
              "      <th></th>\n",
              "      <th>0</th>\n",
              "    </tr>\n",
              "  </thead>\n",
              "  <tbody>\n",
              "    <tr>\n",
              "      <th>ID</th>\n",
              "      <td>0</td>\n",
              "    </tr>\n",
              "    <tr>\n",
              "      <th>Category</th>\n",
              "      <td>0</td>\n",
              "    </tr>\n",
              "    <tr>\n",
              "      <th>Feature</th>\n",
              "      <td>1</td>\n",
              "    </tr>\n",
              "  </tbody>\n",
              "</table>\n",
              "</div><br><label><b>dtype:</b> int64</label>"
            ]
          },
          "metadata": {},
          "execution_count": 60
        }
      ]
    },
    {
      "cell_type": "code",
      "source": [
        "balanced_df.dropna(inplace=True)\n",
        "x_test = x_test.fillna(\"\")  # Replace NaNs with an empty string\n"
      ],
      "metadata": {
        "id": "mk_N2iP1VCye"
      },
      "execution_count": 63,
      "outputs": []
    },
    {
      "cell_type": "code",
      "source": [
        "tfid_vectorizer=TfidfVectorizer()\n",
        "x_train_vectorized=tfid_vectorizer.fit_transform(x_train)\n",
        "x_test_vectorized=tfid_vectorizer.transform(x_test)"
      ],
      "metadata": {
        "id": "0wz2i_bINEDo"
      },
      "execution_count": 64,
      "outputs": []
    },
    {
      "cell_type": "markdown",
      "source": [
        "Train Random Forest Classifier"
      ],
      "metadata": {
        "id": "8frAXmhaN1oz"
      }
    },
    {
      "cell_type": "code",
      "source": [
        "rf_classifier=RandomForestClassifier()\n",
        "rf_classifier.fit(x_train_vectorized,y_train)\n",
        "# accuracy evaluation\n",
        "y_pred=rf_classifier.predict(x_test_vectorized)\n",
        "accuracy=accuracy_score(y_test,y_pred)\n",
        "print(f\"Accuracy:{accuracy}\")"
      ],
      "metadata": {
        "colab": {
          "base_uri": "https://localhost:8080/"
        },
        "id": "-8r_O9JwNoIn",
        "outputId": "cce06c61-c3cf-4bc1-a087-9452b9c3ba6d"
      },
      "execution_count": 65,
      "outputs": [
        {
          "output_type": "stream",
          "name": "stdout",
          "text": [
            "Accuracy:0.8350694444444444\n"
          ]
        }
      ]
    },
    {
      "cell_type": "code",
      "source": [
        "from sklearn.metrics import classification_report,confusion_matrix\n",
        "\n",
        "rf_classifier = RandomForestClassifier()\n",
        "rf_classifier.fit(x_train_vectorized, y_train)\n",
        "\n",
        "# Step 4: Accuracy Evaluation\n",
        "y_pred = rf_classifier.predict(x_test_vectorized)\n",
        "accuracy = accuracy_score(y_test, y_pred)\n",
        "print(\"Accuracy:\", accuracy)\n",
        "print(classification_report(y_test,y_pred))\n",
        "# Confusion Matrix\n",
        "conf_matrix = confusion_matrix(y_test, y_pred)\n",
        "plt.figure(figsize=(10, 8))\n",
        "sns.heatmap(conf_matrix, annot=True, fmt='d', cmap='Blues', xticklabels=rf_classifier.classes_, yticklabels=rf_classifier.classes_)\n",
        "plt.xlabel('Predicted')\n",
        "plt.ylabel('True')\n",
        "plt.title('Confusion Matrix')\n",
        "plt.show()"
      ],
      "metadata": {
        "colab": {
          "base_uri": "https://localhost:8080/",
          "height": 1000
        },
        "id": "fYXA9R1YOko-",
        "outputId": "0d2c9fe3-c480-42f6-a439-1527e84b008e"
      },
      "execution_count": 66,
      "outputs": [
        {
          "output_type": "stream",
          "name": "stdout",
          "text": [
            "Accuracy: 0.8506944444444444\n",
            "                        precision    recall  f1-score   support\n",
            "\n",
            "            ACCOUNTANT       0.83      0.95      0.88        20\n",
            "              ADVOCATE       0.92      0.79      0.85        29\n",
            "           AGRICULTURE       0.95      0.91      0.93        23\n",
            "               APPAREL       0.77      0.77      0.77        22\n",
            "                  ARTS       0.95      0.75      0.84        24\n",
            "            AUTOMOBILE       1.00      0.68      0.81        19\n",
            "              AVIATION       0.96      0.96      0.96        28\n",
            "               BANKING       0.88      0.64      0.74        22\n",
            "                   BPO       1.00      1.00      1.00        15\n",
            "  BUSINESS-DEVELOPMENT       0.50      0.61      0.55        18\n",
            "                  CHEF       0.84      0.96      0.90        28\n",
            "          CONSTRUCTION       0.83      1.00      0.91        25\n",
            "            CONSULTANT       1.00      0.77      0.87        31\n",
            "              DESIGNER       0.86      0.89      0.88        28\n",
            "         DIGITAL-MEDIA       0.83      0.90      0.86        21\n",
            "           ENGINEERING       0.83      0.83      0.83        23\n",
            "               FINANCE       0.78      0.86      0.82        21\n",
            "               FITNESS       0.95      0.82      0.88        22\n",
            "            HEALTHCARE       0.83      0.86      0.85        29\n",
            "                    HR       0.78      1.00      0.88        21\n",
            "INFORMATION-TECHNOLOGY       0.66      0.83      0.73        23\n",
            "      PUBLIC-RELATIONS       0.77      0.83      0.80        24\n",
            "                 SALES       0.95      0.70      0.81        27\n",
            "               TEACHER       0.92      1.00      0.96        33\n",
            "\n",
            "              accuracy                           0.85       576\n",
            "             macro avg       0.86      0.85      0.85       576\n",
            "          weighted avg       0.86      0.85      0.85       576\n",
            "\n"
          ]
        },
        {
          "output_type": "display_data",
          "data": {
            "text/plain": [
              "<Figure size 1000x800 with 2 Axes>"
            ],
            "image/png": "[encoded data removed]"
          },
          "metadata": {}
        }
      ]
    },
    {
      "cell_type": "code",
      "source": [],
      "metadata": {
        "id": "3Z5ATNESWKSV"
      },
      "execution_count": null,
      "outputs": []
    },
    {
      "cell_type": "markdown",
      "source": [
        "Predictive systems"
      ],
      "metadata": {
        "id": "Xaxuc_1qWjoh"
      }
    },
    {
      "cell_type": "code",
      "source": [
        "import re\n",
        "def cleanResume(txt):\n",
        "    cleanText = re.sub('http\\S+\\s', ' ', txt)\n",
        "    cleanText = re.sub('RT|cc', ' ', cleanText)\n",
        "    cleanText = re.sub('#\\S+\\s', ' ', cleanText)\n",
        "    cleanText = re.sub('@\\S+', '  ', cleanText)\n",
        "    cleanText = re.sub('[%s]' % re.escape(\"\"\"!\"#$%&'()*+,-./:;<=>?@[\\]^_`{|}~\"\"\"), ' ', cleanText)\n",
        "    cleanText = re.sub(r'[^\\x00-\\x7f]', ' ', cleanText)\n",
        "    cleanText = re.sub('\\s+', ' ', cleanText)\n",
        "    return cleanText\n",
        "\n",
        "\n",
        "# Prediction and Category Name\n",
        "def predict_category(resume_text):\n",
        "    resume_text= cleanResume(resume_text)\n",
        "    resume_tfidf = tfid_vectorizer.transform([resume_text])\n",
        "    predicted_category = rf_classifier.predict(resume_tfidf)[0]\n",
        "    return predicted_category"
      ],
      "metadata": {
        "id": "OZUM_FfsWmXj"
      },
      "execution_count": 67,
      "outputs": []
    },
    {
      "cell_type": "code",
      "source": [
        "# Example Usage\n",
        "resume_file = \"\"\"hr assistant summary hard worker dedicated detailed oriented experienced organized highly motivated many attributes possess individual years experience human resource administration customer service talent quickly adapt new challenges experience focused benefits administration payroll career development employment law highlights assigned administrative assignments daily basis implemented employee handbook processed documentation employees conducted employees performance reviews managed employee scheduling coordinated upper level co worker lower level teamwork oriented processed new recruits processed payroll performed check managed inventory supplies secured new wholesale food purveyor decrease costs increase profits accomplishments accomplishments pho n restaurant managed restaurant financial objectives developing financing establishing banking relationships prepared strategic annual forecasts budgets analyzing variances initiating corrective actions establishing financial controls developed implemented strategies increase average meal checks created restaurant business plan surveying restaurant demand conferring people community identifying evaluating competitors preparing financial marketing sales projections analyses estimates controlled purchases inventory meeting account manager negotiating prices contracts developing preferred supplier lists reviewing evaluating usage reports analyzing variances taking corrective actions contributed team effort inspired team members motivation provided high level customer service maintain high profile day day operations handled complaints contentious issues settled directly team members provides fast solution accomplished campaign recycle program divide right trash right bin accomplishments dr norman g mckoy associates demonstrated success administrative employee handbook developing team building programs corporate policies job descriptions management reports organized office documents patients charts organized office woking areas welcomed new employees organization conducting orientation organized employees document pockets maintained employees confidence protect operation keeping human resource information confidential maintained employee information entering updating employment status change data provided payroll information collecting time attendance records provided secretarial support entering formatting printing information organizing work answering telephone relaying messages maintaining equipment supplies experience company name city state hr assistant increased productivity physician office organizing patients charts converting digital files streamline patient maintenance processed pay roll paychex includes ensured vacation sick time tracked system answered payroll questions facilited resolutions payroll errors processed incoming mails going mails successfully edited employee handbook define job descriptions create office policies patient managing proper patient reports wrote employee handbook covering issues including disciplinary procedures code conduct fmla policy benefits information wrote standard operations procedures manual sops detailed aspect employee expectations designed implement overall recruiting strategy coordinated office manager recruit right candidates administering interviews conducting background checks processed documentation prepared reports relating personnel activities staffing recruitment training performance evaluations etc identified reduced business expenses increase profits controlling budget compares actual results budget expectations company name city state general manager current hostess waitress promoted interview recruit new hires order sustain longer hours operation thus increased company profitswas successful ensuring successful integration new hires implementing training compensation structures ordered foods supplies restaurant checked maintained inventory handling daily accounting processing payroll processed cost reduction thought venders whole sale increased marketability restaurant designing creating new modernized menu prepared willing step restaurant short staff low turn order increase productivity provide best service maintained great quality quantity foods restaurant created recycle program divided recyclable bin non recyclable waste bin education bachelor arts humanities english university thai chamber commerce city thailand humanities english excelled language culture transportation management critical reading article writing advanced technical reading master science human resource management strayer university city state usa human resource management magna cum laude excelled human resources law management ethical hr information systems hris strategic management registered professional human resources aphr certification hr designations registering aphr professional human resources exam expect complete aphr certification professional affiliations enrolling ongoing training areas compensation benefits employee labor relations leaves absence workers compensation workplace safety security member society human resource management shrm skills human resource management skills employment law hr policies procedures training development performance management employee relations mediation benefits administration orientation boarding organizational development staff life cycle computer skills hris applications peoplesoft enterprise human resources ms office word excel powerpoint access outlook e mailing tools ms outlook windows outlook yahoo google networking skills job boards networking sites soft skills professional communication skills interpersonal skills bilingual thai english excellent adaptability new environments hard working flexible reliable honest polite shape decision making excellent customer service skills creative\n",
        "\"\"\"\n",
        "\n",
        "predicted_category = predict_category(resume_file)\n",
        "print(\"Predicted Category:\", predicted_category)"
      ],
      "metadata": {
        "colab": {
          "base_uri": "https://localhost:8080/"
        },
        "id": "EwumYWsEZQA0",
        "outputId": "b9fd8425-ce85-46e7-eba3-1f1a4c189a94"
      },
      "execution_count": 68,
      "outputs": [
        {
          "output_type": "stream",
          "name": "stdout",
          "text": [
            "Predicted Category: HR\n"
          ]
        }
      ]
    },
    {
      "cell_type": "code",
      "source": [
        "resume_file='information technology manager network engineer professional overview highly skilled accomplished information technology manager years expertise planning implementing streamlining systems ensure maximum customer satisfaction business revenue strong leader demonstrated ability work effectively individuals levels functional areas exceptional communication project management skills ability successfully manage multiple priorities assignments skills platforms windows server professional windows xp pro home win dos citrix ica ms exchange hardware hp ibm dell intel based server desktop platforms cisco switches sonic wall hardware vpns hp laser jets toshiba e color copier toshiba sony laptops inter tel software ms office visio citrix metaframe xp symantec pc anywhere ghost antivirus utilities win fax mcafee virus scan adobe acrobat illustrator photoshop partition magic adware spyware networking tcp ip wireless b g dns wins dhcp relevant experience information technology manager network engineer feb current company name city state responsible day day operations functions wilkes six offices staff members currently lead team professionals developers planning upgrades implementation systems business applications development new software tools work closely cio senior management ensure business technology objectives aligned researched new technologies calculated future needs achieve accurate capacity planning negotiated hardware software purchases maintenance contracts dramatically reduced costs maintenance virtualizing company infrastructure using vmware reduced physical servers streamlined disaster recovery processes planned executed active directory domain migration r coordinated planning migration mpls network sites including upgrades routers switches network equipment increased speed reliability company email migrating microsoft exchange streamlined operations designing new citrix infrastructure using netscaler load balancers ensure better speed connectivity less downtime remote offices led planning implementation disaster recovery site atlanta created company first comprehensive business continuity plan tested success installed configuring barracuda spam virus firewalls resulting reduction spam enforced security policies managed monitored updated spam filtering virus malware prevention systems reduced desktop application deployment times designing implementing microsoft system center configuration manager conducted training internal systems local procedures technical subjects company employees coordinate external technology vendors internal staff members third party consultants network engineer sep jan company name city state administered managed windows server network environment responsible lan wan duties local remote networks acted technical consultant clients various projects provide end user support windows xp operating systems installed implemented exchange mail server implemented server desktop security using mcafee enterprise epolicy orchestrator installed configured web servers ftp servers pop mail servers manage cisco switches routers configured vpn remote access users implemented software domain policies patches upgrades using group policy sus trained new employees systems administration web development network support technician jan aug company name city provided network desktop support users provided technical support offices b domain supported help desk using help star software troubleshooting windows desktop computers implemented group policy objects control desktop environment security performed hardware software upgrades replacements performed installations troubleshooting ms office suite managed users computers organizational units active directory created disc images desktop notebook computers using norton ghost troubleshooting repairs laser printers copy machines education bachelor science management information systems university maryland university college city state certifications microsoft certified technology specialist mcts citrix certified administrator cca information systems management certificate project management certificate'\n",
        "\n",
        "predicted_category = predict_category(resume_file)\n",
        "print(\"Predicted Category:\", predicted_category)"
      ],
      "metadata": {
        "colab": {
          "base_uri": "https://localhost:8080/"
        },
        "id": "MWVxxmRUZWK9",
        "outputId": "4ecd3846-9815-4028-d5a1-2487cde640c7"
      },
      "execution_count": 69,
      "outputs": [
        {
          "output_type": "stream",
          "name": "stdout",
          "text": [
            "Predicted Category: INFORMATION-TECHNOLOGY\n"
          ]
        }
      ]
    },
    {
      "cell_type": "code",
      "source": [
        "import pickle\n",
        "import os\n",
        "os.makedirs('/content/models', exist_ok=True)\n",
        "pickle.dump(rf_classifier,open('models/rf_classifier_categorization.pkl','wb'))\n",
        "pickle.dump(tfid_vectorizer,open('models/tfidf_vectorizer_categorization.pkl','wb'))"
      ],
      "metadata": {
        "id": "k316iWcOZZyd"
      },
      "execution_count": 72,
      "outputs": []
    },
    {
      "cell_type": "code",
      "source": [],
      "metadata": {
        "id": "op4HhK-raj0e"
      },
      "execution_count": null,
      "outputs": []
    }
  ]
}